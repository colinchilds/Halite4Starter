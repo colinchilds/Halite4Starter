{
 "cells": [
  {
   "cell_type": "code",
   "execution_count": 13,
   "metadata": {
    "collapsed": true
   },
   "outputs": [
    {
     "name": "stdout",
     "output_type": "stream",
     "text": [
      "\n",
      "Invalid Action: No potential to gather halite remaining.\n"
     ]
    }
   ],
   "source": [
    "from kaggle_environments import evaluate, make\n",
    "\n",
    "env = make(\"halite\", debug=True)\n",
    "\n",
    "env.run([\"submission.py\", \"random\", \"random\", \"random\"])\n",
    "env.render(mode=\"ipython\", width=800, height=600)"
   ]
  }
 ],
 "metadata": {
  "kernelspec": {
   "display_name": "Python 3",
   "language": "python",
   "name": "python3"
  },
  "language_info": {
   "codemirror_mode": {
    "name": "ipython",
    "version": 2
   },
   "file_extension": ".py",
   "mimetype": "text/x-python",
   "name": "python",
   "nbconvert_exporter": "python",
   "pygments_lexer": "ipython2",
   "version": "2.7.6"
  }
 },
 "nbformat": 4,
 "nbformat_minor": 0
}